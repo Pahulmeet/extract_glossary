{
 "cells": [
  {
   "cell_type": "markdown",
   "id": "cb4c22ee-cbac-4487-86ff-e231c7ec37c5",
   "metadata": {},
   "source": [
    "## This code snippet below with use Mistral AI OCR model to convert the PDF to a markdown format whil retaining the maximum context and structure of the PDF."
   ]
  },
  {
   "cell_type": "markdown",
   "id": "9641bd42-9ecd-40ad-817c-12de1e960bcb",
   "metadata": {},
   "source": [
    "### NOTE: Remember it will cost depending upon your usage as to how big of a PDF you are working with so be careful with your API costs."
   ]
  },
  {
   "cell_type": "markdown",
   "id": "fe3b82d7-0565-4c49-9361-8ab2462c4ee5",
   "metadata": {},
   "source": [
    "### Recommendation: Please convert your PDF to markdown once and store those files as just passing the same PDF again and again wil still yield same results but would cost you anyway."
   ]
  },
  {
   "cell_type": "code",
   "execution_count": 12,
   "id": "0c5db5a6-758c-4d90-ae01-756aa06e4e3e",
   "metadata": {},
   "outputs": [
    {
     "name": "stdout",
     "output_type": "stream",
     "text": [
      "OCR complete. Markdown output saved to output.md\n"
     ]
    },
    {
     "name": "stderr",
     "output_type": "stream",
     "text": [
      "C:\\Users\\Pahul\\AppData\\Local\\Temp\\ipykernel_19896\\3703150094.py:62: PydanticDeprecatedSince20: The `json` method is deprecated; use `model_dump_json` instead. Deprecated in Pydantic V2.0 to be removed in V3.0. See Pydantic V2 Migration Guide at https://errors.pydantic.dev/2.10/migration/\n",
      "  response_dict = json.loads(ocr_response.json())\n"
     ]
    }
   ],
   "source": [
    "\"\"\"\n",
    "Complete script to:\n",
    "  1. Process a PDF using Mistral OCR to extract markdown text.\n",
    "  2. Send the combined OCR markdown to an OpenAI agent that extracts glossary terms\n",
    "     and definitions—using only the OCR-provided text (word-for-word)—and outputs CSV.\n",
    "  \n",
    "Requirements:\n",
    "  - mistralai, openai, and any other dependencies must be installed.\n",
    "  - Replace \"YOUR_MISTRAL_API_KEY\" and \"YOUR_OPENAI_API_KEY\" with your actual API keys.\n",
    "\"\"\"\n",
    "\n",
    "import os\n",
    "import json\n",
    "from pathlib import Path\n",
    "import base64\n",
    "from mistralai import Mistral\n",
    "from openai import OpenAI\n",
    "\n",
    "# ------------------------------------------------------------------------------\n",
    "# API Keys \n",
    "# ------------------------------------------------------------------------------\n",
    "MISTRAL_API_KEY = \"\"\n",
    "OPENAI_API_KEY = \"\"  \n",
    "\n",
    "# File path to your PDF document\n",
    "PDF_PATH = Path(\"test.pdf\")\n",
    "assert PDF_PATH.is_file(), f\"PDF file not found: {PDF_PATH}\"\n",
    "\n",
    "# Mistral client for OCR processing\n",
    "mistral_client = Mistral(api_key=MISTRAL_API_KEY)\n",
    "\n",
    "# OpenAI client for the o3 mini agent\n",
    "openai_client = OpenAI(api_key=OPENAI_API_KEY)\n",
    "\n",
    "# ------------------------------------------------------------------------------\n",
    "# Step 1: Process PDF to Markdown using Mistral OCR\n",
    "# ------------------------------------------------------------------------------\n",
    "def process_pdf_to_markdown(pdf_path: Path) -> str:\n",
    "    # --- Upload the PDF ---\n",
    "    uploaded_pdf = mistral_client.files.upload(\n",
    "        file={\n",
    "            \"file_name\": pdf_path.name,\n",
    "            \"content\": pdf_path.read_bytes(),\n",
    "        },\n",
    "        purpose=\"ocr\"\n",
    "    )\n",
    "    \n",
    "    # --- Retrieve a signed URL for the uploaded PDF ---\n",
    "    signed_url = mistral_client.files.get_signed_url(file_id=uploaded_pdf.id)\n",
    "    \n",
    "    # --- Process OCR using the \"mistral-ocr-latest\" model ---\n",
    "    ocr_response = mistral_client.ocr.process(\n",
    "        model=\"mistral-ocr-latest\",\n",
    "        document={\n",
    "            \"type\": \"document_url\",\n",
    "            \"document_url\": signed_url.url,\n",
    "        },\n",
    "        include_image_base64=False  # We only need the markdown text output\n",
    "    )\n",
    "    \n",
    "    # --- Extract and combine markdown text from all pages ---\n",
    "    response_dict = json.loads(ocr_response.json())\n",
    "    pages = response_dict.get(\"pages\", [])\n",
    "    combined_markdown = \"\\n\\n\".join(page.get(\"markdown\", \"\") for page in pages)\n",
    "    \n",
    "    # --- Optionally, write the combined markdown to a file ---\n",
    "    with open(\"output.md\", \"w\", encoding=\"utf-8\") as f:\n",
    "        f.write(combined_markdown)\n",
    "    \n",
    "    print(\"OCR complete. Markdown output saved to output.md\")\n",
    "    return combined_markdown\n",
    "\n",
    "\n",
    "# ------------------------------------------------------------------------------\n",
    "# Main Execution\n",
    "# ------------------------------------------------------------------------------\n",
    "\n",
    "# Process the PDF to extract OCR markdown text\n",
    "ocr_markdown = process_pdf_to_markdown(PDF_PATH)\n",
    "    \n",
    "\n",
    "\n"
   ]
  },
  {
   "cell_type": "markdown",
   "id": "6d743919-b764-45b8-81bd-682a997dfe05",
   "metadata": {},
   "source": [
    "### I recommned o3 mini model because while testing I found this model to be better and less compute intensive at the same time. Please adjust the prompt if you think you can get better results with a different prompt."
   ]
  },
  {
   "cell_type": "code",
   "execution_count": 2,
   "id": "69119ce9-aa88-4bed-9753-8f4e31684b1d",
   "metadata": {},
   "outputs": [],
   "source": [
    "def extract_glossary_csv_from_local_md() -> str:\n",
    "    import os\n",
    "    from openai import OpenAI\n",
    "\n",
    "    # Read the OCR markdown from the local \"output.md\" file\n",
    "    with open(\"output.md\", \"r\", encoding=\"utf-8\") as f:\n",
    "        ocr_markdown = f.read()\n",
    "    \n",
    "    # Build the prompt for CSV extraction\n",
    "    prompt = f\"\"\"Below is the OCR output from a PDF document containing glossary terms and definitions.\n",
    "Your task is to extract all glossary terms and their exact corresponding definitions using only the text provided.\n",
    "DO NOT generate or add any definitions from your own knowledge—use only the text from the OCR output word-for-word. \n",
    "Note: Some entries may be misaligned, split across lines, or arranged in columns. Reconstruct them accurately as they appear.\n",
    "Return the result strictly in CSV format with two columns: \"Term\" and \"Definition\". \n",
    "Do not include any additional commentary.\n",
    "OCR output:\n",
    "<BEGIN_OCR>\n",
    "{ocr_markdown}\n",
    "<END_OCR>\"\"\"\n",
    "\n",
    "    # Initialize the OpenAI client with the API key from the environment\n",
    "    openai_api_key = OPENAI_API_KEY\n",
    "    if not openai_api_key:\n",
    "        raise Exception(\"OPENAI_API_KEY not found in environment.\")\n",
    "    client = OpenAI(api_key=openai_api_key)\n",
    "    \n",
    "    # Call the openai model via the chat completions endpoint\n",
    "    response = client.chat.completions.create(\n",
    "        model=\"o3-mini-2025-01-31\",\n",
    "        messages=[{\"role\": \"user\", \"content\": prompt}],\n",
    "        response_format={\"type\": \"text\"},\n",
    "        temperature=1,\n",
    "        max_completion_tokens=20000,\n",
    "        top_p=1,\n",
    "        frequency_penalty=0,\n",
    "        presence_penalty=0\n",
    "    )\n",
    "    \n",
    "    # Access the CSV output using attribute access instead of subscripting\n",
    "    csv_output = response.choices[0].message.content\n",
    "    \n",
    "    # Write the CSV output to \"glossary.csv\"\n",
    "    with open(\"glossary.csv\", \"w\", encoding=\"utf-8\") as f:\n",
    "        f.write(csv_output)\n",
    "    \n",
    "    print(\"Glossary extraction complete. CSV output saved to glossary.csv\")\n",
    "    return csv_output\n"
   ]
  },
  {
   "cell_type": "code",
   "execution_count": 3,
   "id": "9901af44-6ac4-457c-a8e1-9e3fed1de658",
   "metadata": {},
   "outputs": [
    {
     "name": "stdout",
     "output_type": "stream",
     "text": [
      "Glossary extraction complete. CSV output saved to glossary.csv\n"
     ]
    },
    {
     "data": {
      "text/plain": [
       "'\"Term\",\"Definition\"\\n\"Aliquoted\",\"To divide (a whole) into equal parts.\"\\n\"Alkalinity\",\"A measure of the acid-neutralizing capacity of water.\"\\n\"Anode\",\"The electrode that oxidizes during an electrochemical process.\"\\n\"Backend\",\"The treatment elements of the non-sewered sanitation system. The backend generates an output for safe reuse or disposal (e.g., outputs include liquid or solid fertilizers).\"\\n\"Biosorption\",\"The passive removal/binding of toxic substances from aqueous solution by biological material.\"\\n\"Blackwater\",\"A mixture of water with feces and urine.\"\\n\"Calorific value\",\"A standard that measures the total energy content produced in the form of heat when a substance is combusted completely with air or oxygen.\"\\n\"Cathode\",\"The electrode where the reduction reaction occurs during an electrochemical process.\"\\n\"Chemical oxygen demand (COD)\",\"A commonly used indirect measurement of the amount of organic matter in wastewater, COD is the amount of oxygen required to oxidize soluble and particulate organic matter in solution.\"\\n\"COD:N ratio\",\"A measure of the chemical composition of wastewater related to relative amount of organic matter (COD) and nitrogen (N).\"\\n\"Colorimeter\",\"An instrument that determines concentration of a compound in liquid through optical transmission measurements.\"\\n\"Communal ablution blocks\",\"A utility owned facility for washing, showering, and toilet use.\"\\n\"Composite sample\",\"A mixture of individual samples collected over an extended period of time to more faithfully represent a continually changing stream.\"\\n\"Conductivity/Electroconductivity\",\"A measure of the ability of water to pass an electrical current. Conductivity increases as salinity increases, because dissolved salts and inorganic materials conduct electricity.\"\\n\"Dissolved oxygen\",\"The oxygen available in wastewater which sustains the life of oxygen needing (aerobic) bacteria.\"\\n\"Dry toilet\",\"A toilet which does not use water to carry excreta into the treatment unit.\"\\n\"Effluent\",\"The liquid discharged from a treatment plant or process after completion of a treatment process.\"\\n\"Frontend\",\"The \\'toilet facility\\' elements of the non-sewered sanitation system. The frontend includes the elements which the user interacts with while using the toilet facility. The frontend receives an input (e.g., urine and feces).\"\\n\"Gel point\",\"An abrupt change in the viscosity of a solution that contains particles and becomes a solid gel.\"\\n\"Grab sample\",\"A single discrete volume sample collected over a period not to exceed 15 minutes.\"\\n\"Graywater\",\"Domestic wastewater that does not contain feces or urine.\"\\n\"Helminth\",\"A parasitic worm, such as tapeworms typically living in the intestine. Helminth eggs are microscopic infective agents transmitted through feces.\"\\n\"Hydraulic retention time\",\"Average time interval that a compound (such as wastewater) remains in a treatment tank or unit.\"\\n\"Influent\",\"The fluid input into a reservoir or process.\"\\n\"Informal settlement\",\"Housing areas/dwellings illegally built on municipal or unclaimed land and characterized by poor living conditions.\"\\n\"Limit of detection\",\"The lowest concentration that can be measured (detected) with statistical significance by means of a given analytical procedure.\"\\n\"Limit of quantification\",\"The lowest amount of analyte in a sample which can be quantitatively determined with suitable precision and accuracy.\"\\n\"Microorganism\",\"An organism of single-celled form or a colony of cells that can be seen only through a microscope, including bacteria, protozoa, algae, and fungi.\"\\n\"Most probable number\",\"A statistical method used to estimate the number of viable cells of a particular microorganism in a sample.\"\\n\"Non-sewered sanitation systems\",\"Distributed sanitation technologies which treat wastewater on-site where the waste is generated to stringent thresholds. These systems do not connect to a sewer.\"\\n\"Oxidation\",\"A chemical process involving transfer of electrons. Oxidation of organic pollutants may produce less dangerous or harmless\"\\n\"Pasteurization\",\"Heat treatment for inactivating pathogens.\"\\n\"pH\",\"A measure of acidity and alkalinity of a solution.\"\\n\"Polishing\",\"A process to remove impurities in order to meet required quality standards.\"\\n\"Reverse polarity\",\"Changing the positive and negative connections in a direct current circuit so an electrical current flows in the opposite direction. Periodically reversing polarity reduces mineral deposition and fouling of treatment electrodes.\"\\n\"Rheological\",\"Related to the science of the deformation and flow of matter.\"\\n\"Safely managed sanitation\",\"As defined by JMP, this means the \\'use of improved facilities that are not shared with other households and where excreta are safely disposed of in situ or removed and treated offsite.\"\\n\"Septic tank\",\"Improved facilities are those designed to hygienically separate excreta from human contact. ${ }^{\\\\text {a }}$\"\\n\"Sewer\",\"A tank, typically underground, where wastewater generated on-site is collected and treated by biological decomposition and drainage.\"\\n\"Sludge\",\"A large pipe, usually underground, that carries wastewater and human waste away from buildings for treatment.\"\\n\"Smoldering\",\"The accumulated suspended solids of sewage deposited in tanks or basins.\"\\n\"Steady state\",\"A slow, flameless form of combustion, such as a burning cigarette.\"\\n\"Supercritical water oxidation\",\"A condition of a treatment system where variables that define the process are relatively constant.\"\\n\"Supernatant\",\"A physical-thermal process powered by water above its critical point (374° C and 221 bar) and air that yields an oxidation reaction that eliminates organic compounds.\"\\n\"Suspended solids\",\"The usually clear liquid overlying material deposited by settling, precipitation, or centrifugation.\"\\n\"Technology readiness level\",\"Small solid particles which remain in suspension in water.\"\\n\"Total dissolved solids\",\"A scale used to measure the maturity of a technology, from a basic concept to a system reliably operating in relevant environments.\"\\n\"Total Kjeldahl nitrogen\",\"Inorganic salts and small amounts of organic matter that are dissolved in water. The sum of nitrogen bound in organic substances, nitrogen in ammonia and in ammonium in the chemical analysis of soil, water, or wastewater.\"\\n\"Total nitrogen\",\"Sum of all nitrogen forms - ammonia nitrogen (NH3)+ organic nitrogen (nitrogen in amino acids and proteins) + nitrate (NO3) + nitrite (NO2).\"\\n\"Total solids\",\"Solids contained in a solution including dissolved, suspended and settleable.\"\\n\"Total volatile solids\",\"The portion of solids that is combusted at $550^{\\\\circ} \\\\mathrm{C}$ after two hours.\"\\n\"Turbidity\",\"A measure of water clarity related to the presence of suspended solids.\"\\n\"Ultrafiltration\",\"The separation of particulates and macromolecules from a solution via an ultrafine semi-permeable membrane.\"\\n\"Ultraviolet disinfection\",\"A method using UV light which prevents microorganisms from reproducing.\"'"
      ]
     },
     "execution_count": 3,
     "metadata": {},
     "output_type": "execute_result"
    }
   ],
   "source": [
    "# Let us create the required CSV file\n",
    "extract_glossary_csv_from_local_md()    "
   ]
  },
  {
   "cell_type": "markdown",
   "id": "aff79dba-59c5-475a-9d68-4672fbd58dd7",
   "metadata": {},
   "source": [
    "### Optional Code: I needed this for calculating tokens to check context length and for computation purposes"
   ]
  },
  {
   "cell_type": "code",
   "execution_count": 4,
   "id": "ed0a7556-2034-4f21-aa49-7a3f89282d2f",
   "metadata": {},
   "outputs": [
    {
     "name": "stdout",
     "output_type": "stream",
     "text": [
      "Token count: 3785\n"
     ]
    }
   ],
   "source": [
    "import tiktoken\n",
    "\n",
    "# Replace with your actual markdown file path\n",
    "markdown_file = \"output.md\"\n",
    "\n",
    "# Read the content of the markdown file\n",
    "with open(markdown_file, \"r\", encoding=\"utf-8\") as f:\n",
    "    markdown_text = f.read()\n",
    "\n",
    "# Choose an encoding; \"cl100k_base\" is a good starting point for many OpenAI models.\n",
    "encoding = tiktoken.get_encoding(\"cl100k_base\")\n",
    "\n",
    "# Encode the text and count tokens\n",
    "tokens = encoding.encode(markdown_text)\n",
    "token_count = len(tokens)\n",
    "\n",
    "print(f\"Token count: {token_count}\")\n"
   ]
  }
 ],
 "metadata": {
  "kernelspec": {
   "display_name": "Python 3 (ipykernel)",
   "language": "python",
   "name": "python3"
  },
  "language_info": {
   "codemirror_mode": {
    "name": "ipython",
    "version": 3
   },
   "file_extension": ".py",
   "mimetype": "text/x-python",
   "name": "python",
   "nbconvert_exporter": "python",
   "pygments_lexer": "ipython3",
   "version": "3.12.0"
  }
 },
 "nbformat": 4,
 "nbformat_minor": 5
}
